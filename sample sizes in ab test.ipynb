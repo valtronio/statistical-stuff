{
 "cells": [
  {
   "cell_type": "code",
   "execution_count": 3,
   "metadata": {},
   "outputs": [],
   "source": [
    "from scipy.stats import norm\n",
    "\n",
    "def calc_sample_sizes(p_control, MDE, alpha = 0.05, beta = 0.2, k = 1):\n",
    "    \n",
    "    \"\"\"source: blob:https://web.telegram.org/2f6153ee-279d-49d0-a6c3-0a4405f9ded2\"\"\"\n",
    "\n",
    "    alpha_quantile = norm.ppf(1 - alpha / 2)\n",
    "    beta_quantile = norm.ppf(1 - beta)\n",
    "    \n",
    "    p_test = p_control * (1 + MDE)\n",
    "    p_avg = (p_control + p_test) / 2\n",
    "    \n",
    "    chislitel = (1 + 1 / k) * p_avg * (1 - p_avg) * (alpha_quantile + beta_quantile)  2\n",
    "    znamenatel = (p_control - p_test)  2\n",
    "    control_sample_size = chislitel / znamenatel\n",
    "    test_sample_size = k * control_sample_size\n",
    "\n",
    "    return test_sample_size, control_sample_size"
   ]
  },
  {
   "cell_type": "code",
   "execution_count": null,
   "metadata": {},
   "outputs": [],
   "source": []
  }
 ],
 "metadata": {
  "kernelspec": {
   "display_name": "Python 3",
   "language": "python",
   "name": "python3"
  },
  "language_info": {
   "codemirror_mode": {
    "name": "ipython",
    "version": 3
   },
   "file_extension": ".py",
   "mimetype": "text/x-python",
   "name": "python",
   "nbconvert_exporter": "python",
   "pygments_lexer": "ipython3",
   "version": "3.7.3"
  }
 },
 "nbformat": 4,
 "nbformat_minor": 2
}
